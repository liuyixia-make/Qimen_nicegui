{
 "cells": [
  {
   "cell_type": "code",
   "execution_count": 4,
   "metadata": {},
   "outputs": [
    {
     "ename": "ModuleNotFoundError",
     "evalue": "No module named 'Services'",
     "output_type": "error",
     "traceback": [
      "\u001b[31m---------------------------------------------------------------------------\u001b[39m",
      "\u001b[31mModuleNotFoundError\u001b[39m                       Traceback (most recent call last)",
      "\u001b[36mCell\u001b[39m\u001b[36m \u001b[39m\u001b[32mIn[4]\u001b[39m\u001b[32m, line 1\u001b[39m\n\u001b[32m----> \u001b[39m\u001b[32m1\u001b[39m \u001b[38;5;28;01mfrom\u001b[39;00m\u001b[38;5;250m \u001b[39m\u001b[34;01mServices\u001b[39;00m\u001b[34;01m.\u001b[39;00m\u001b[34;01mpaipan_servise\u001b[39;00m\u001b[38;5;250m \u001b[39m\u001b[38;5;28;01mimport\u001b[39;00m 奇门遁甲\n\u001b[32m      2\u001b[39m \u001b[38;5;66;03m# 测试代码\u001b[39;00m\n\u001b[32m      3\u001b[39m qm = 奇门遁甲(起卦时间=\u001b[33m'\u001b[39m\u001b[33m2025-06-02 14:00\u001b[39m\u001b[33m'\u001b[39m, 起局法=\u001b[33m'\u001b[39m\u001b[33m拆补法\u001b[39m\u001b[33m'\u001b[39m, 地区=\u001b[33m'\u001b[39m\u001b[33m北京\u001b[39m\u001b[33m'\u001b[39m)\n",
      "\u001b[31mModuleNotFoundError\u001b[39m: No module named 'Services'"
     ]
    }
   ],
   "source": [
    "from Services.paipan_servise import 奇门遁甲\n",
    "# 测试代码\n",
    "qm = 奇门遁甲(起卦时间='2025-06-02 14:00', 起局法='拆补法', 地区='北京')\n",
    "a = qm.真太阳时计算()\n",
    "print(a)\n",
    "    "
   ]
  }
 ],
 "metadata": {
  "kernelspec": {
   "display_name": "Qimen",
   "language": "python",
   "name": "python3"
  },
  "language_info": {
   "codemirror_mode": {
    "name": "ipython",
    "version": 3
   },
   "file_extension": ".py",
   "mimetype": "text/x-python",
   "name": "python",
   "nbconvert_exporter": "python",
   "pygments_lexer": "ipython3",
   "version": "3.13.2"
  }
 },
 "nbformat": 4,
 "nbformat_minor": 2
}
